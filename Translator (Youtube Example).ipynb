{
 "cells": [
  {
   "cell_type": "code",
   "execution_count": null,
   "id": "8816e981",
   "metadata": {},
   "outputs": [],
   "source": [
    "! pip install googletrans==4.0.0rc1"
   ]
  },
  {
   "cell_type": "code",
   "execution_count": null,
   "id": "d9f02d55",
   "metadata": {},
   "outputs": [],
   "source": [
    "! pip install translate"
   ]
  },
  {
   "cell_type": "code",
   "execution_count": 1,
   "id": "db61552f",
   "metadata": {},
   "outputs": [],
   "source": [
    "from tkinter import *\n",
    "from tkinter import ttk\n",
    "from googletrans import Translator, LANGUAGES"
   ]
  },
  {
   "cell_type": "code",
   "execution_count": 2,
   "id": "4bdb3ec8",
   "metadata": {},
   "outputs": [],
   "source": [
    "root = Tk()\n",
    "root.geometry('1100x320')\n",
    "root.resizable(0,0)\n",
    "root['bg']='white'\n",
    "\n",
    "root.title('Language Translator')\n",
    "Label(root, text = \"Language Translator\", font = \"Arial 20 bold\", bg=\"white\").pack()"
   ]
  },
  {
   "cell_type": "code",
   "execution_count": 3,
   "id": "8935dc21",
   "metadata": {},
   "outputs": [],
   "source": [
    "Label(root,text = \"Enter text: \", font = \"Arial 12 bold\", bg='white smoke').place(x=165, y=90)"
   ]
  },
  {
   "cell_type": "code",
   "execution_count": 4,
   "id": "53922e0b",
   "metadata": {},
   "outputs": [],
   "source": [
    "Input_text = Entry(root, width=60)\n",
    "Input_text.place(x=30, y=130)"
   ]
  },
  {
   "cell_type": "code",
   "execution_count": 5,
   "id": "a77e76f8",
   "metadata": {},
   "outputs": [],
   "source": [
    "Label(root, text=\"Output\", font=\"Arial 12 bold\", bg='white smoke').place(x=750, y=90)\n",
    "Output_text = Text(root, font=\"Arial 10\", height=5, wrap=WORD, padx=5, pady=5, width=50)\n",
    "Output_text.place(x=600, y=130)\n",
    "\n",
    "language = list(LANGUAGES.values())\n",
    "dest_lang = ttk.Combobox(root, values=language, width=22)\n",
    "dest_lang.place(x=130, y=160)\n",
    "dest_lang.set('Choose Language')\n",
    "\n",
    "def Translate():\n",
    "    translator = Translator()\n",
    "    translated= translator.translate(text=Input_text.get(), dest = dest_lang.get())\n",
    "    Output_text.delete (1.0, END)\n",
    "    Output_text.insert (END, translated.text)\n",
    "\n",
    "trans_btn = Button(root, text=\"Translate\", font=\"Arial 12 bold\", pady=5, command=Translate, bg='grey', activebackground='orange')\n",
    "trans_btn.place(x=445, y=180)\n",
    "\n",
    "root.mainloop()"
   ]
  },
  {
   "cell_type": "code",
   "execution_count": null,
   "id": "7d4fc968",
   "metadata": {},
   "outputs": [],
   "source": []
  }
 ],
 "metadata": {
  "kernelspec": {
   "display_name": "Python 3 (ipykernel)",
   "language": "python",
   "name": "python3"
  },
  "language_info": {
   "codemirror_mode": {
    "name": "ipython",
    "version": 3
   },
   "file_extension": ".py",
   "mimetype": "text/x-python",
   "name": "python",
   "nbconvert_exporter": "python",
   "pygments_lexer": "ipython3",
   "version": "3.10.9"
  }
 },
 "nbformat": 4,
 "nbformat_minor": 5
}
