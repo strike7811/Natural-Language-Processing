{
 "cells": [
  {
   "cell_type": "code",
   "execution_count": null,
   "id": "c53f97f7",
   "metadata": {},
   "outputs": [],
   "source": [
    "#Description : This is a sentiment analysis program that parses the tweets fetched from Twittter using Python"
   ]
  },
  {
   "cell_type": "code",
   "execution_count": null,
   "id": "7a74efc0",
   "metadata": {},
   "outputs": [],
   "source": [
    "! pip install tweepy\n",
    "! pip install textblob\n",
    "! pip install wordcloud"
   ]
  },
  {
   "cell_type": "code",
   "execution_count": 1,
   "id": "6dfe56eb",
   "metadata": {},
   "outputs": [],
   "source": [
    "# Import libraries\n",
    "import tweepy\n",
    "from textblob import TextBlob\n",
    "from wordcloud import WordCloud\n",
    "import pandas as pd\n",
    "import numpy as np\n",
    "import re\n",
    "import matplotlib.pyplot as plt\n",
    "plt.style.use('fivethirtyeight')"
   ]
  },
  {
   "cell_type": "code",
   "execution_count": 2,
   "id": "745c1580",
   "metadata": {},
   "outputs": [
    {
     "ename": "ModuleNotFoundError",
     "evalue": "No module named 'google.colab'",
     "output_type": "error",
     "traceback": [
      "\u001b[1;31m---------------------------------------------------------------------------\u001b[0m",
      "\u001b[1;31mModuleNotFoundError\u001b[0m                       Traceback (most recent call last)",
      "Cell \u001b[1;32mIn[2], line 2\u001b[0m\n\u001b[0;32m      1\u001b[0m \u001b[38;5;66;03m# Load the data\u001b[39;00m\n\u001b[1;32m----> 2\u001b[0m \u001b[38;5;28;01mfrom\u001b[39;00m \u001b[38;5;21;01mgoogle\u001b[39;00m\u001b[38;5;21;01m.\u001b[39;00m\u001b[38;5;21;01mcolab\u001b[39;00m \u001b[38;5;28;01mimport\u001b[39;00m files\n",
      "\u001b[1;31mModuleNotFoundError\u001b[0m: No module named 'google.colab'"
     ]
    }
   ],
   "source": [
    "# Load the data\n",
    "from google.colab import files\n",
    "uploaded = files.upload()"
   ]
  },
  {
   "cell_type": "code",
   "execution_count": null,
   "id": "53686d43",
   "metadata": {},
   "outputs": [],
   "source": [
    "# Get the data\n",
    "log = pd.read_csv('login.csv')"
   ]
  },
  {
   "cell_type": "code",
   "execution_count": null,
   "id": "7905c9fc",
   "metadata": {},
   "outputs": [],
   "source": [
    "# Twitter API credentials\n",
    "consumerKey = log['key'][0]\n",
    "consumerSecret = log['key'][1]\n",
    "accessToken = log['key'][2]\n",
    "accessTokenSecret = log['key'][3]"
   ]
  },
  {
   "cell_type": "code",
   "execution_count": null,
   "id": "0b77f15b",
   "metadata": {},
   "outputs": [],
   "source": [
    "# Create the authentication object\n",
    "authenticate = tweepy.OAuthHandler(consumerKey, consumerSecret)\n",
    "\n",
    "# Set the access token and access token secret\n",
    "authenticate.set_access_token(accessToken, accessTokenSecret)\n",
    "\n",
    "# Create the API object while passing in the auth information\n",
    "api = tweepy.API(authenticate, wait_on_rate_limit = True)\n"
   ]
  },
  {
   "cell_type": "code",
   "execution_count": null,
   "id": "0e64a0d6",
   "metadata": {},
   "outputs": [],
   "source": [
    "# Extract 100 tweets from the twitter yser\n",
    "posts = api.user_timeline(screen_name = \"BillGates\", count=100, lang = \"en\", tweet_mode=\"extended\")\n",
    "\n",
    "# Print the last 5 tweets from the account\n",
    "print(\"Show the 5 recent tweets: \\n\")\n",
    "for tweet in post[0:5]:\n",
    "    print(tweet.full_text + '\\n')"
   ]
  },
  {
   "cell_type": "code",
   "execution_count": null,
   "id": "eaf497c0",
   "metadata": {},
   "outputs": [],
   "source": []
  }
 ],
 "metadata": {
  "kernelspec": {
   "display_name": "Python 3 (ipykernel)",
   "language": "python",
   "name": "python3"
  },
  "language_info": {
   "codemirror_mode": {
    "name": "ipython",
    "version": 3
   },
   "file_extension": ".py",
   "mimetype": "text/x-python",
   "name": "python",
   "nbconvert_exporter": "python",
   "pygments_lexer": "ipython3",
   "version": "3.10.9"
  }
 },
 "nbformat": 4,
 "nbformat_minor": 5
}
