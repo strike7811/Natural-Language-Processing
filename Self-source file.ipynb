{
 "cells": [
  {
   "cell_type": "code",
   "execution_count": 1,
   "id": "276b86c3",
   "metadata": {},
   "outputs": [
    {
     "name": "stdout",
     "output_type": "stream",
     "text": [
      "Requirement already satisfied: snownlp in c:\\users\\chan\\appdata\\roaming\\python\\python310\\site-packages (0.12.3)\n"
     ]
    },
    {
     "name": "stderr",
     "output_type": "stream",
     "text": [
      "\n",
      "[notice] A new release of pip is available: 23.3.1 -> 23.3.2\n",
      "[notice] To update, run: python.exe -m pip install --upgrade pip\n"
     ]
    },
    {
     "name": "stdout",
     "output_type": "stream",
     "text": [
      "Requirement already satisfied: langid in c:\\users\\chan\\appdata\\roaming\\python\\python310\\site-packages (1.1.6)\n",
      "Requirement already satisfied: numpy in c:\\users\\chan\\anaconda3\\lib\\site-packages (from langid) (1.23.5)\n"
     ]
    },
    {
     "name": "stderr",
     "output_type": "stream",
     "text": [
      "\n",
      "[notice] A new release of pip is available: 23.3.1 -> 23.3.2\n",
      "[notice] To update, run: python.exe -m pip install --upgrade pip\n"
     ]
    },
    {
     "name": "stdout",
     "output_type": "stream",
     "text": [
      "Requirement already satisfied: googletrans==4.0.0rc1 in c:\\users\\chan\\appdata\\roaming\\python\\python310\\site-packages (4.0.0rc1)\n",
      "Requirement already satisfied: httpx==0.13.3 in c:\\users\\chan\\appdata\\roaming\\python\\python310\\site-packages (from googletrans==4.0.0rc1) (0.13.3)\n",
      "Requirement already satisfied: certifi in c:\\users\\chan\\anaconda3\\lib\\site-packages (from httpx==0.13.3->googletrans==4.0.0rc1) (2022.12.7)\n",
      "Requirement already satisfied: hstspreload in c:\\users\\chan\\appdata\\roaming\\python\\python310\\site-packages (from httpx==0.13.3->googletrans==4.0.0rc1) (2023.1.1)\n",
      "Requirement already satisfied: sniffio in c:\\users\\chan\\anaconda3\\lib\\site-packages (from httpx==0.13.3->googletrans==4.0.0rc1) (1.2.0)\n",
      "Requirement already satisfied: chardet==3.* in c:\\users\\chan\\appdata\\roaming\\python\\python310\\site-packages (from httpx==0.13.3->googletrans==4.0.0rc1) (3.0.4)\n",
      "Requirement already satisfied: idna==2.* in c:\\users\\chan\\appdata\\roaming\\python\\python310\\site-packages (from httpx==0.13.3->googletrans==4.0.0rc1) (2.10)\n",
      "Requirement already satisfied: rfc3986<2,>=1.3 in c:\\users\\chan\\appdata\\roaming\\python\\python310\\site-packages (from httpx==0.13.3->googletrans==4.0.0rc1) (1.5.0)\n",
      "Requirement already satisfied: httpcore==0.9.* in c:\\users\\chan\\appdata\\roaming\\python\\python310\\site-packages (from httpx==0.13.3->googletrans==4.0.0rc1) (0.9.1)\n",
      "Requirement already satisfied: h11<0.10,>=0.8 in c:\\users\\chan\\appdata\\roaming\\python\\python310\\site-packages (from httpcore==0.9.*->httpx==0.13.3->googletrans==4.0.0rc1) (0.9.0)\n",
      "Requirement already satisfied: h2==3.* in c:\\users\\chan\\appdata\\roaming\\python\\python310\\site-packages (from httpcore==0.9.*->httpx==0.13.3->googletrans==4.0.0rc1) (3.2.0)\n",
      "Requirement already satisfied: hyperframe<6,>=5.2.0 in c:\\users\\chan\\appdata\\roaming\\python\\python310\\site-packages (from h2==3.*->httpcore==0.9.*->httpx==0.13.3->googletrans==4.0.0rc1) (5.2.0)\n",
      "Requirement already satisfied: hpack<4,>=3.0 in c:\\users\\chan\\appdata\\roaming\\python\\python310\\site-packages (from h2==3.*->httpcore==0.9.*->httpx==0.13.3->googletrans==4.0.0rc1) (3.0.0)\n"
     ]
    },
    {
     "name": "stderr",
     "output_type": "stream",
     "text": [
      "\n",
      "[notice] A new release of pip is available: 23.3.1 -> 23.3.2\n",
      "[notice] To update, run: python.exe -m pip install --upgrade pip\n"
     ]
    },
    {
     "name": "stdout",
     "output_type": "stream",
     "text": [
      "Requirement already satisfied: emoji in c:\\users\\chan\\appdata\\roaming\\python\\python310\\site-packages (2.9.0)\n"
     ]
    },
    {
     "name": "stderr",
     "output_type": "stream",
     "text": [
      "\n",
      "[notice] A new release of pip is available: 23.3.1 -> 23.3.2\n",
      "[notice] To update, run: python.exe -m pip install --upgrade pip\n"
     ]
    },
    {
     "name": "stdout",
     "output_type": "stream",
     "text": [
      "Requirement already satisfied: pyspellchecker in c:\\users\\chan\\appdata\\roaming\\python\\python310\\site-packages (0.7.2)\n"
     ]
    },
    {
     "name": "stderr",
     "output_type": "stream",
     "text": [
      "\n",
      "[notice] A new release of pip is available: 23.3.1 -> 23.3.2\n",
      "[notice] To update, run: python.exe -m pip install --upgrade pip\n"
     ]
    }
   ],
   "source": [
    "! pip install snownlp\n",
    "! pip install langid\n",
    "! pip install googletrans==4.0.0rc1\n",
    "! pip install emoji\n",
    "! pip install pyspellchecker"
   ]
  },
  {
   "cell_type": "code",
   "execution_count": 2,
   "id": "909d7484",
   "metadata": {},
   "outputs": [
    {
     "name": "stderr",
     "output_type": "stream",
     "text": [
      "[nltk_data] Downloading package stopwords to\n",
      "[nltk_data]     C:\\Users\\Chan\\AppData\\Roaming\\nltk_data...\n",
      "[nltk_data]   Package stopwords is already up-to-date!\n",
      "[nltk_data] Downloading package punkt to\n",
      "[nltk_data]     C:\\Users\\Chan\\AppData\\Roaming\\nltk_data...\n",
      "[nltk_data]   Package punkt is already up-to-date!\n",
      "[nltk_data] Downloading package vader_lexicon to\n",
      "[nltk_data]     C:\\Users\\Chan\\AppData\\Roaming\\nltk_data...\n",
      "[nltk_data]   Package vader_lexicon is already up-to-date!\n"
     ]
    },
    {
     "data": {
      "text/plain": [
       "True"
      ]
     },
     "execution_count": 2,
     "metadata": {},
     "output_type": "execute_result"
    }
   ],
   "source": [
    "import numpy as np\n",
    "import pandas as pd\n",
    "import re\n",
    "import nltk\n",
    "import spacy\n",
    "import string\n",
    "from googletrans import Translator\n",
    "import nltk\n",
    "from nltk.corpus import stopwords\n",
    "from nltk.tokenize import word_tokenize\n",
    "from nltk.stem import WordNetLemmatizer\n",
    "import emoji\n",
    "from spellchecker import SpellChecker\n",
    "from nltk import pos_tag\n",
    "from nltk.sentiment.vader import SentimentIntensityAnalyzer\n",
    "\n",
    "# Download NLTK resources\n",
    "nltk.download('stopwords')\n",
    "nltk.download('punkt')\n",
    "nltk.download('vader_lexicon')"
   ]
  },
  {
   "cell_type": "code",
   "execution_count": 3,
   "id": "f0babc89",
   "metadata": {},
   "outputs": [],
   "source": [
    "sid = SentimentIntensityAnalyzer()"
   ]
  },
  {
   "cell_type": "code",
   "execution_count": 4,
   "id": "9438e8d7",
   "metadata": {},
   "outputs": [],
   "source": [
    "df = pd.read_csv('NLP dataset.csv')"
   ]
  },
  {
   "cell_type": "code",
   "execution_count": 5,
   "id": "f42e56a0",
   "metadata": {},
   "outputs": [
    {
     "data": {
      "text/plain": [
       "Positive    60\n",
       "Neutral     38\n",
       "Negative    36\n",
       "Name: Label, dtype: int64"
      ]
     },
     "execution_count": 5,
     "metadata": {},
     "output_type": "execute_result"
    }
   ],
   "source": [
    "df['Label'].value_counts()"
   ]
  },
  {
   "cell_type": "code",
   "execution_count": 6,
   "id": "3331ee3b",
   "metadata": {},
   "outputs": [],
   "source": [
    "df.dropna(inplace=True)"
   ]
  },
  {
   "cell_type": "code",
   "execution_count": 7,
   "id": "d503d119",
   "metadata": {},
   "outputs": [
    {
     "data": {
      "text/plain": [
       "{'neg': 0.0, 'neu': 0.447, 'pos': 0.553, 'compound': 0.872}"
      ]
     },
     "execution_count": 7,
     "metadata": {},
     "output_type": "execute_result"
    }
   ],
   "source": [
    "sid.polarity_scores(df.iloc[1]['Review'])"
   ]
  },
  {
   "cell_type": "code",
   "execution_count": null,
   "id": "a52a1579",
   "metadata": {},
   "outputs": [],
   "source": []
  },
  {
   "cell_type": "code",
   "execution_count": 8,
   "id": "f00bf267",
   "metadata": {},
   "outputs": [],
   "source": [
    "df['Scores'] = df['Review'].apply(lambda review: sid.polarity_scores(review))"
   ]
  },
  {
   "cell_type": "code",
   "execution_count": 9,
   "id": "d950d4b6",
   "metadata": {},
   "outputs": [
    {
     "data": {
      "text/html": [
       "<div>\n",
       "<style scoped>\n",
       "    .dataframe tbody tr th:only-of-type {\n",
       "        vertical-align: middle;\n",
       "    }\n",
       "\n",
       "    .dataframe tbody tr th {\n",
       "        vertical-align: top;\n",
       "    }\n",
       "\n",
       "    .dataframe thead th {\n",
       "        text-align: right;\n",
       "    }\n",
       "</style>\n",
       "<table border=\"1\" class=\"dataframe\">\n",
       "  <thead>\n",
       "    <tr style=\"text-align: right;\">\n",
       "      <th></th>\n",
       "      <th>Review</th>\n",
       "      <th>Label</th>\n",
       "      <th>Scores</th>\n",
       "    </tr>\n",
       "  </thead>\n",
       "  <tbody>\n",
       "    <tr>\n",
       "      <th>0</th>\n",
       "      <td>Barang sudah sampai.tp foto tak Ada sangkutan....</td>\n",
       "      <td>Negative</td>\n",
       "      <td>{'neg': 0.0, 'neu': 1.0, 'pos': 0.0, 'compound...</td>\n",
       "    </tr>\n",
       "    <tr>\n",
       "      <th>1</th>\n",
       "      <td>Fast penghantaran and good service good respon...</td>\n",
       "      <td>Positive</td>\n",
       "      <td>{'neg': 0.0, 'neu': 0.447, 'pos': 0.553, 'comp...</td>\n",
       "    </tr>\n",
       "    <tr>\n",
       "      <th>2</th>\n",
       "      <td>Good price good product quality good job good ...</td>\n",
       "      <td>Positive</td>\n",
       "      <td>{'neg': 0.0, 'neu': 0.296, 'pos': 0.704, 'comp...</td>\n",
       "    </tr>\n",
       "    <tr>\n",
       "      <th>3</th>\n",
       "      <td>penantian yang berbaloi..kasut yang beautiful ...</td>\n",
       "      <td>Negative</td>\n",
       "      <td>{'neg': 0.185, 'neu': 0.548, 'pos': 0.267, 'co...</td>\n",
       "    </tr>\n",
       "    <tr>\n",
       "      <th>4</th>\n",
       "      <td>Penghantaran cepat walaupun dari China. 7 hari...</td>\n",
       "      <td>Positive</td>\n",
       "      <td>{'neg': 0.0, 'neu': 0.763, 'pos': 0.237, 'comp...</td>\n",
       "    </tr>\n",
       "  </tbody>\n",
       "</table>\n",
       "</div>"
      ],
      "text/plain": [
       "                                              Review     Label  \\\n",
       "0  Barang sudah sampai.tp foto tak Ada sangkutan....  Negative   \n",
       "1  Fast penghantaran and good service good respon...  Positive   \n",
       "2  Good price good product quality good job good ...  Positive   \n",
       "3  penantian yang berbaloi..kasut yang beautiful ...  Negative   \n",
       "4  Penghantaran cepat walaupun dari China. 7 hari...  Positive   \n",
       "\n",
       "                                              Scores  \n",
       "0  {'neg': 0.0, 'neu': 1.0, 'pos': 0.0, 'compound...  \n",
       "1  {'neg': 0.0, 'neu': 0.447, 'pos': 0.553, 'comp...  \n",
       "2  {'neg': 0.0, 'neu': 0.296, 'pos': 0.704, 'comp...  \n",
       "3  {'neg': 0.185, 'neu': 0.548, 'pos': 0.267, 'co...  \n",
       "4  {'neg': 0.0, 'neu': 0.763, 'pos': 0.237, 'comp...  "
      ]
     },
     "execution_count": 9,
     "metadata": {},
     "output_type": "execute_result"
    }
   ],
   "source": [
    "df.head()"
   ]
  },
  {
   "cell_type": "code",
   "execution_count": 10,
   "id": "837fb322",
   "metadata": {},
   "outputs": [],
   "source": [
    "df['Compound'] = df['Scores'].apply(lambda d:d['compound'])"
   ]
  },
  {
   "cell_type": "code",
   "execution_count": 11,
   "id": "dc976701",
   "metadata": {},
   "outputs": [
    {
     "data": {
      "text/html": [
       "<div>\n",
       "<style scoped>\n",
       "    .dataframe tbody tr th:only-of-type {\n",
       "        vertical-align: middle;\n",
       "    }\n",
       "\n",
       "    .dataframe tbody tr th {\n",
       "        vertical-align: top;\n",
       "    }\n",
       "\n",
       "    .dataframe thead th {\n",
       "        text-align: right;\n",
       "    }\n",
       "</style>\n",
       "<table border=\"1\" class=\"dataframe\">\n",
       "  <thead>\n",
       "    <tr style=\"text-align: right;\">\n",
       "      <th></th>\n",
       "      <th>Review</th>\n",
       "      <th>Label</th>\n",
       "      <th>Scores</th>\n",
       "      <th>Compound</th>\n",
       "    </tr>\n",
       "  </thead>\n",
       "  <tbody>\n",
       "    <tr>\n",
       "      <th>0</th>\n",
       "      <td>Barang sudah sampai.tp foto tak Ada sangkutan....</td>\n",
       "      <td>Negative</td>\n",
       "      <td>{'neg': 0.0, 'neu': 1.0, 'pos': 0.0, 'compound...</td>\n",
       "      <td>0.0000</td>\n",
       "    </tr>\n",
       "    <tr>\n",
       "      <th>1</th>\n",
       "      <td>Fast penghantaran and good service good respon...</td>\n",
       "      <td>Positive</td>\n",
       "      <td>{'neg': 0.0, 'neu': 0.447, 'pos': 0.553, 'comp...</td>\n",
       "      <td>0.8720</td>\n",
       "    </tr>\n",
       "    <tr>\n",
       "      <th>2</th>\n",
       "      <td>Good price good product quality good job good ...</td>\n",
       "      <td>Positive</td>\n",
       "      <td>{'neg': 0.0, 'neu': 0.296, 'pos': 0.704, 'comp...</td>\n",
       "      <td>0.9753</td>\n",
       "    </tr>\n",
       "    <tr>\n",
       "      <th>3</th>\n",
       "      <td>penantian yang berbaloi..kasut yang beautiful ...</td>\n",
       "      <td>Negative</td>\n",
       "      <td>{'neg': 0.185, 'neu': 0.548, 'pos': 0.267, 'co...</td>\n",
       "      <td>0.2955</td>\n",
       "    </tr>\n",
       "    <tr>\n",
       "      <th>4</th>\n",
       "      <td>Penghantaran cepat walaupun dari China. 7 hari...</td>\n",
       "      <td>Positive</td>\n",
       "      <td>{'neg': 0.0, 'neu': 0.763, 'pos': 0.237, 'comp...</td>\n",
       "      <td>0.8555</td>\n",
       "    </tr>\n",
       "  </tbody>\n",
       "</table>\n",
       "</div>"
      ],
      "text/plain": [
       "                                              Review     Label  \\\n",
       "0  Barang sudah sampai.tp foto tak Ada sangkutan....  Negative   \n",
       "1  Fast penghantaran and good service good respon...  Positive   \n",
       "2  Good price good product quality good job good ...  Positive   \n",
       "3  penantian yang berbaloi..kasut yang beautiful ...  Negative   \n",
       "4  Penghantaran cepat walaupun dari China. 7 hari...  Positive   \n",
       "\n",
       "                                              Scores  Compound  \n",
       "0  {'neg': 0.0, 'neu': 1.0, 'pos': 0.0, 'compound...    0.0000  \n",
       "1  {'neg': 0.0, 'neu': 0.447, 'pos': 0.553, 'comp...    0.8720  \n",
       "2  {'neg': 0.0, 'neu': 0.296, 'pos': 0.704, 'comp...    0.9753  \n",
       "3  {'neg': 0.185, 'neu': 0.548, 'pos': 0.267, 'co...    0.2955  \n",
       "4  {'neg': 0.0, 'neu': 0.763, 'pos': 0.237, 'comp...    0.8555  "
      ]
     },
     "execution_count": 11,
     "metadata": {},
     "output_type": "execute_result"
    }
   ],
   "source": [
    "df.head()"
   ]
  },
  {
   "cell_type": "code",
   "execution_count": 12,
   "id": "c0bb6018",
   "metadata": {},
   "outputs": [],
   "source": [
    "df['Comp_Score'] = df['Compound'].apply(lambda score: 'Positive' if score > 0.0 else ('Negative' if score < 0.0 else 'Neutral'))"
   ]
  },
  {
   "cell_type": "code",
   "execution_count": 13,
   "id": "73e75d2a",
   "metadata": {},
   "outputs": [
    {
     "data": {
      "text/html": [
       "<div>\n",
       "<style scoped>\n",
       "    .dataframe tbody tr th:only-of-type {\n",
       "        vertical-align: middle;\n",
       "    }\n",
       "\n",
       "    .dataframe tbody tr th {\n",
       "        vertical-align: top;\n",
       "    }\n",
       "\n",
       "    .dataframe thead th {\n",
       "        text-align: right;\n",
       "    }\n",
       "</style>\n",
       "<table border=\"1\" class=\"dataframe\">\n",
       "  <thead>\n",
       "    <tr style=\"text-align: right;\">\n",
       "      <th></th>\n",
       "      <th>Review</th>\n",
       "      <th>Label</th>\n",
       "      <th>Scores</th>\n",
       "      <th>Compound</th>\n",
       "      <th>Comp_Score</th>\n",
       "    </tr>\n",
       "  </thead>\n",
       "  <tbody>\n",
       "    <tr>\n",
       "      <th>0</th>\n",
       "      <td>Barang sudah sampai.tp foto tak Ada sangkutan....</td>\n",
       "      <td>Negative</td>\n",
       "      <td>{'neg': 0.0, 'neu': 1.0, 'pos': 0.0, 'compound...</td>\n",
       "      <td>0.0000</td>\n",
       "      <td>Neutral</td>\n",
       "    </tr>\n",
       "    <tr>\n",
       "      <th>1</th>\n",
       "      <td>Fast penghantaran and good service good respon...</td>\n",
       "      <td>Positive</td>\n",
       "      <td>{'neg': 0.0, 'neu': 0.447, 'pos': 0.553, 'comp...</td>\n",
       "      <td>0.8720</td>\n",
       "      <td>Positive</td>\n",
       "    </tr>\n",
       "    <tr>\n",
       "      <th>2</th>\n",
       "      <td>Good price good product quality good job good ...</td>\n",
       "      <td>Positive</td>\n",
       "      <td>{'neg': 0.0, 'neu': 0.296, 'pos': 0.704, 'comp...</td>\n",
       "      <td>0.9753</td>\n",
       "      <td>Positive</td>\n",
       "    </tr>\n",
       "    <tr>\n",
       "      <th>3</th>\n",
       "      <td>penantian yang berbaloi..kasut yang beautiful ...</td>\n",
       "      <td>Negative</td>\n",
       "      <td>{'neg': 0.185, 'neu': 0.548, 'pos': 0.267, 'co...</td>\n",
       "      <td>0.2955</td>\n",
       "      <td>Positive</td>\n",
       "    </tr>\n",
       "    <tr>\n",
       "      <th>4</th>\n",
       "      <td>Penghantaran cepat walaupun dari China. 7 hari...</td>\n",
       "      <td>Positive</td>\n",
       "      <td>{'neg': 0.0, 'neu': 0.763, 'pos': 0.237, 'comp...</td>\n",
       "      <td>0.8555</td>\n",
       "      <td>Positive</td>\n",
       "    </tr>\n",
       "    <tr>\n",
       "      <th>...</th>\n",
       "      <td>...</td>\n",
       "      <td>...</td>\n",
       "      <td>...</td>\n",
       "      <td>...</td>\n",
       "      <td>...</td>\n",
       "    </tr>\n",
       "    <tr>\n",
       "      <th>95</th>\n",
       "      <td>penghantaran sangat fast sekali.</td>\n",
       "      <td>Positive</td>\n",
       "      <td>{'neg': 0.0, 'neu': 1.0, 'pos': 0.0, 'compound...</td>\n",
       "      <td>0.0000</td>\n",
       "      <td>Neutral</td>\n",
       "    </tr>\n",
       "    <tr>\n",
       "      <th>96</th>\n",
       "      <td>kasut agak kecil... not comfortable</td>\n",
       "      <td>Negative</td>\n",
       "      <td>{'neg': 0.403, 'neu': 0.597, 'pos': 0.0, 'comp...</td>\n",
       "      <td>-0.4023</td>\n",
       "      <td>Negative</td>\n",
       "    </tr>\n",
       "    <tr>\n",
       "      <th>97</th>\n",
       "      <td>Barang sampai dgn selamat..kasut tidak koyak d...</td>\n",
       "      <td>Neutral</td>\n",
       "      <td>{'neg': 0.0, 'neu': 1.0, 'pos': 0.0, 'compound...</td>\n",
       "      <td>0.0000</td>\n",
       "      <td>Neutral</td>\n",
       "    </tr>\n",
       "    <tr>\n",
       "      <th>98</th>\n",
       "      <td>Penghantaran yang pantas, harga baik, layanan ...</td>\n",
       "      <td>Positive</td>\n",
       "      <td>{'neg': 0.0, 'neu': 1.0, 'pos': 0.0, 'compound...</td>\n",
       "      <td>0.0000</td>\n",
       "      <td>Neutral</td>\n",
       "    </tr>\n",
       "    <tr>\n",
       "      <th>99</th>\n",
       "      <td>Terbaik seller fast delivery appreciate it alo...</td>\n",
       "      <td>Positive</td>\n",
       "      <td>{'neg': 0.0, 'neu': 0.634, 'pos': 0.366, 'comp...</td>\n",
       "      <td>0.6369</td>\n",
       "      <td>Positive</td>\n",
       "    </tr>\n",
       "  </tbody>\n",
       "</table>\n",
       "<p>100 rows × 5 columns</p>\n",
       "</div>"
      ],
      "text/plain": [
       "                                               Review     Label  \\\n",
       "0   Barang sudah sampai.tp foto tak Ada sangkutan....  Negative   \n",
       "1   Fast penghantaran and good service good respon...  Positive   \n",
       "2   Good price good product quality good job good ...  Positive   \n",
       "3   penantian yang berbaloi..kasut yang beautiful ...  Negative   \n",
       "4   Penghantaran cepat walaupun dari China. 7 hari...  Positive   \n",
       "..                                                ...       ...   \n",
       "95                   penghantaran sangat fast sekali.  Positive   \n",
       "96                kasut agak kecil... not comfortable  Negative   \n",
       "97  Barang sampai dgn selamat..kasut tidak koyak d...   Neutral   \n",
       "98  Penghantaran yang pantas, harga baik, layanan ...  Positive   \n",
       "99  Terbaik seller fast delivery appreciate it alo...  Positive   \n",
       "\n",
       "                                               Scores  Compound Comp_Score  \n",
       "0   {'neg': 0.0, 'neu': 1.0, 'pos': 0.0, 'compound...    0.0000    Neutral  \n",
       "1   {'neg': 0.0, 'neu': 0.447, 'pos': 0.553, 'comp...    0.8720   Positive  \n",
       "2   {'neg': 0.0, 'neu': 0.296, 'pos': 0.704, 'comp...    0.9753   Positive  \n",
       "3   {'neg': 0.185, 'neu': 0.548, 'pos': 0.267, 'co...    0.2955   Positive  \n",
       "4   {'neg': 0.0, 'neu': 0.763, 'pos': 0.237, 'comp...    0.8555   Positive  \n",
       "..                                                ...       ...        ...  \n",
       "95  {'neg': 0.0, 'neu': 1.0, 'pos': 0.0, 'compound...    0.0000    Neutral  \n",
       "96  {'neg': 0.403, 'neu': 0.597, 'pos': 0.0, 'comp...   -0.4023   Negative  \n",
       "97  {'neg': 0.0, 'neu': 1.0, 'pos': 0.0, 'compound...    0.0000    Neutral  \n",
       "98  {'neg': 0.0, 'neu': 1.0, 'pos': 0.0, 'compound...    0.0000    Neutral  \n",
       "99  {'neg': 0.0, 'neu': 0.634, 'pos': 0.366, 'comp...    0.6369   Positive  \n",
       "\n",
       "[100 rows x 5 columns]"
      ]
     },
     "execution_count": 13,
     "metadata": {},
     "output_type": "execute_result"
    }
   ],
   "source": [
    "df.head(100)"
   ]
  },
  {
   "cell_type": "code",
   "execution_count": 14,
   "id": "cbec5747",
   "metadata": {},
   "outputs": [],
   "source": [
    "# Function to translate text to English\n",
    "def translate_text_function(text):\n",
    "\n",
    "    def translate_to_english(text):\n",
    "        translator = Translator()\n",
    "        translation = translator.translate(text, src='ms', dest='en')\n",
    "        return translation.text\n",
    "    def auto_translate(text):\n",
    "        translator = Translator()\n",
    "        translation = translator.translate(text, dest='en')\n",
    "        return translation.text\n",
    "    auto_translated_text = auto_translate(text)\n",
    "    malay_translated_text = translate_to_english(auto_translated_text)\n",
    "    translated_sentence = f\"{malay_translated_text}\"\n",
    "\n",
    "    return translated_sentence"
   ]
  },
  {
   "cell_type": "code",
   "execution_count": 15,
   "id": "56498e7e",
   "metadata": {},
   "outputs": [],
   "source": [
    "# Translate the 'Review' column to English and add the translations to a new column 'Translated_Review'\n",
    "df['Translated_Review'] = df['Review'].apply(translate_text_function)"
   ]
  },
  {
   "cell_type": "code",
   "execution_count": 16,
   "id": "e7c15ec3",
   "metadata": {},
   "outputs": [
    {
     "data": {
      "text/html": [
       "<div>\n",
       "<style scoped>\n",
       "    .dataframe tbody tr th:only-of-type {\n",
       "        vertical-align: middle;\n",
       "    }\n",
       "\n",
       "    .dataframe tbody tr th {\n",
       "        vertical-align: top;\n",
       "    }\n",
       "\n",
       "    .dataframe thead th {\n",
       "        text-align: right;\n",
       "    }\n",
       "</style>\n",
       "<table border=\"1\" class=\"dataframe\">\n",
       "  <thead>\n",
       "    <tr style=\"text-align: right;\">\n",
       "      <th></th>\n",
       "      <th>Review</th>\n",
       "      <th>Label</th>\n",
       "      <th>Scores</th>\n",
       "      <th>Compound</th>\n",
       "      <th>Comp_Score</th>\n",
       "      <th>Translated_Review</th>\n",
       "      <th>Lowercase</th>\n",
       "    </tr>\n",
       "  </thead>\n",
       "  <tbody>\n",
       "    <tr>\n",
       "      <th>0</th>\n",
       "      <td>Barang sudah sampai.tp foto tak Ada sangkutan....</td>\n",
       "      <td>Negative</td>\n",
       "      <td>{'neg': 0.0, 'neu': 1.0, 'pos': 0.0, 'compound...</td>\n",
       "      <td>0.0000</td>\n",
       "      <td>Neutral</td>\n",
       "      <td>The item has arrived.</td>\n",
       "      <td>the item has arrived.</td>\n",
       "    </tr>\n",
       "    <tr>\n",
       "      <th>1</th>\n",
       "      <td>Fast penghantaran and good service good respon...</td>\n",
       "      <td>Positive</td>\n",
       "      <td>{'neg': 0.0, 'neu': 0.447, 'pos': 0.553, 'comp...</td>\n",
       "      <td>0.8720</td>\n",
       "      <td>Positive</td>\n",
       "      <td>Fast delivery and good service good response f...</td>\n",
       "      <td>fast delivery and good service good response f...</td>\n",
       "    </tr>\n",
       "    <tr>\n",
       "      <th>2</th>\n",
       "      <td>Good price good product quality good job good ...</td>\n",
       "      <td>Positive</td>\n",
       "      <td>{'neg': 0.0, 'neu': 0.296, 'pos': 0.704, 'comp...</td>\n",
       "      <td>0.9753</td>\n",
       "      <td>Positive</td>\n",
       "      <td>Good Price Good Product Quality Good Job Good ...</td>\n",
       "      <td>good price good product quality good job good ...</td>\n",
       "    </tr>\n",
       "    <tr>\n",
       "      <th>3</th>\n",
       "      <td>penantian yang berbaloi..kasut yang beautiful ...</td>\n",
       "      <td>Negative</td>\n",
       "      <td>{'neg': 0.185, 'neu': 0.548, 'pos': 0.267, 'co...</td>\n",
       "      <td>0.2955</td>\n",
       "      <td>Positive</td>\n",
       "      <td>Waiting that is in a place ... the case is bea...</td>\n",
       "      <td>waiting that is in a place ... the case is bea...</td>\n",
       "    </tr>\n",
       "    <tr>\n",
       "      <th>4</th>\n",
       "      <td>Penghantaran cepat walaupun dari China. 7 hari...</td>\n",
       "      <td>Positive</td>\n",
       "      <td>{'neg': 0.0, 'neu': 0.763, 'pos': 0.237, 'comp...</td>\n",
       "      <td>0.8555</td>\n",
       "      <td>Positive</td>\n",
       "      <td>Fast delivery even from China.7 days to arrive...</td>\n",
       "      <td>fast delivery even from china.7 days to arrive...</td>\n",
       "    </tr>\n",
       "  </tbody>\n",
       "</table>\n",
       "</div>"
      ],
      "text/plain": [
       "                                              Review     Label  \\\n",
       "0  Barang sudah sampai.tp foto tak Ada sangkutan....  Negative   \n",
       "1  Fast penghantaran and good service good respon...  Positive   \n",
       "2  Good price good product quality good job good ...  Positive   \n",
       "3  penantian yang berbaloi..kasut yang beautiful ...  Negative   \n",
       "4  Penghantaran cepat walaupun dari China. 7 hari...  Positive   \n",
       "\n",
       "                                              Scores  Compound Comp_Score  \\\n",
       "0  {'neg': 0.0, 'neu': 1.0, 'pos': 0.0, 'compound...    0.0000    Neutral   \n",
       "1  {'neg': 0.0, 'neu': 0.447, 'pos': 0.553, 'comp...    0.8720   Positive   \n",
       "2  {'neg': 0.0, 'neu': 0.296, 'pos': 0.704, 'comp...    0.9753   Positive   \n",
       "3  {'neg': 0.185, 'neu': 0.548, 'pos': 0.267, 'co...    0.2955   Positive   \n",
       "4  {'neg': 0.0, 'neu': 0.763, 'pos': 0.237, 'comp...    0.8555   Positive   \n",
       "\n",
       "                                   Translated_Review  \\\n",
       "0                              The item has arrived.   \n",
       "1  Fast delivery and good service good response f...   \n",
       "2  Good Price Good Product Quality Good Job Good ...   \n",
       "3  Waiting that is in a place ... the case is bea...   \n",
       "4  Fast delivery even from China.7 days to arrive...   \n",
       "\n",
       "                                           Lowercase  \n",
       "0                              the item has arrived.  \n",
       "1  fast delivery and good service good response f...  \n",
       "2  good price good product quality good job good ...  \n",
       "3  waiting that is in a place ... the case is bea...  \n",
       "4  fast delivery even from china.7 days to arrive...  "
      ]
     },
     "execution_count": 16,
     "metadata": {},
     "output_type": "execute_result"
    }
   ],
   "source": [
    "df[\"Lowercase\"] = df[\"Translated_Review\"].str.lower()\n",
    "df.head()"
   ]
  },
  {
   "cell_type": "code",
   "execution_count": 17,
   "id": "9cccd7cd",
   "metadata": {},
   "outputs": [
    {
     "data": {
      "text/plain": [
       "\"i, me, my, myself, we, our, ours, ourselves, you, you're, you've, you'll, you'd, your, yours, yourself, yourselves, he, him, his, himself, she, she's, her, hers, herself, it, it's, its, itself, they, them, their, theirs, themselves, what, which, who, whom, this, that, that'll, these, those, am, is, are, was, were, be, been, being, have, has, had, having, do, does, did, doing, a, an, the, and, but, if, or, because, as, until, while, of, at, by, for, with, about, against, between, into, through, during, before, after, above, below, to, from, up, down, in, out, on, off, over, under, again, further, then, once, here, there, when, where, why, how, all, any, both, each, few, more, most, other, some, such, no, nor, not, only, own, same, so, than, too, very, s, t, can, will, just, don, don't, should, should've, now, d, ll, m, o, re, ve, y, ain, aren, aren't, couldn, couldn't, didn, didn't, doesn, doesn't, hadn, hadn't, hasn, hasn't, haven, haven't, isn, isn't, ma, mightn, mightn't, mustn, mustn't, needn, needn't, shan, shan't, shouldn, shouldn't, wasn, wasn't, weren, weren't, won, won't, wouldn, wouldn't\""
      ]
     },
     "execution_count": 17,
     "metadata": {},
     "output_type": "execute_result"
    }
   ],
   "source": [
    "from nltk.corpus import stopwords\n",
    "\", \".join(stopwords.words('english'))"
   ]
  },
  {
   "cell_type": "code",
   "execution_count": 18,
   "id": "bdefd0b3",
   "metadata": {},
   "outputs": [],
   "source": [
    "# Sample preprocessing for Malaysia Rojak language\n",
    "def preprocess_text(text):\n",
    "    text = re.sub(r'http\\S+', '', text)  # Remove URLs\n",
    "    tokens = word_tokenize(text)\n",
    "    tokens = [word.lower() for word in tokens if word.isalpha()]  # Remove non-alphabetic characters\n",
    "    tokens = [word for word in tokens if word not in stopwords.words('english')]  # Remove stopwords\n",
    "    return ' '.join(tokens)\n",
    "\n",
    "df['preprocessed_text'] = df['Review'].apply(preprocess_text)"
   ]
  },
  {
   "cell_type": "code",
   "execution_count": 19,
   "id": "66c6b536",
   "metadata": {},
   "outputs": [
    {
     "data": {
      "text/plain": [
       "{'neg': 0.0, 'neu': 1.0, 'pos': 0.0, 'compound': 0.0}"
      ]
     },
     "execution_count": 19,
     "metadata": {},
     "output_type": "execute_result"
    }
   ],
   "source": [
    "sid.polarity_scores(\"warna peach not pink color , awak menipu \")"
   ]
  },
  {
   "cell_type": "code",
   "execution_count": 20,
   "id": "3f1666d0",
   "metadata": {},
   "outputs": [
    {
     "name": "stdout",
     "output_type": "stream",
     "text": [
      "Accuracy: 0.48148148148148145\n",
      "              precision    recall  f1-score   support\n",
      "\n",
      "    Negative       1.00      0.17      0.29         6\n",
      "     Neutral       1.00      0.31      0.47        13\n",
      "    Positive       0.36      1.00      0.53         8\n",
      "\n",
      "    accuracy                           0.48        27\n",
      "   macro avg       0.79      0.49      0.43        27\n",
      "weighted avg       0.81      0.48      0.45        27\n",
      "\n"
     ]
    }
   ],
   "source": [
    "from sklearn.model_selection import train_test_split\n",
    "from sklearn.feature_extraction.text import CountVectorizer\n",
    "from sklearn.naive_bayes import MultinomialNB\n",
    "from sklearn.metrics import accuracy_score, classification_report\n",
    "\n",
    "# Sample dataset splitting\n",
    "X_train, X_test, y_train, y_test = train_test_split(df['Review'], df['Label'], test_size=0.2, random_state=42)\n",
    "\n",
    "# Sample model training using CountVectorizer and Naive Bayes\n",
    "vectorizer = CountVectorizer()\n",
    "X_train_vec = vectorizer.fit_transform(X_train)\n",
    "X_test_vec = vectorizer.transform(X_test)\n",
    "\n",
    "model = MultinomialNB()\n",
    "model.fit(X_train_vec, y_train)\n",
    "\n",
    "# Sample evaluation\n",
    "predictions = model.predict(X_test_vec)\n",
    "accuracy = accuracy_score(y_test, predictions)\n",
    "print(f'Accuracy: {accuracy}')\n",
    "print(classification_report(y_test, predictions))"
   ]
  },
  {
   "cell_type": "code",
   "execution_count": null,
   "id": "32e6f6d6",
   "metadata": {},
   "outputs": [],
   "source": []
  },
  {
   "cell_type": "code",
   "execution_count": 21,
   "id": "7b9ae4d4",
   "metadata": {},
   "outputs": [],
   "source": [
    "from sklearn.feature_extraction.text import TfidfVectorizer\n",
    "from sklearn.model_selection import train_test_split\n",
    "from sklearn.svm import SVC\n",
    "from sklearn.metrics import confusion_matrix, accuracy_score, classification_report\n",
    "import seaborn as sns\n",
    "import matplotlib.pyplot as plt\n",
    "\n",
    "# Sample dataset splitting\n",
    "X_train, X_test, y_train, y_test = train_test_split(df['Review'], df['Label'], test_size=0.2, random_state=42)\n",
    "\n",
    "# Transform the data using the selected features\n",
    "tfidf_vectorizer = TfidfVectorizer()\n",
    "X_train_selected = tfidf_vectorizer.fit_transform(X_train)\n",
    "X_test_selected = tfidf_vectorizer.transform(X_test)\n",
    "\n",
    "# Train a SVM classifier on the selected features\n",
    "svm_model = SVC(kernel='linear')\n",
    "svm_model.fit(X_train_selected, y_train)\n",
    "\n",
    "# Make predictions on the validation and test sets\n",
    "svm_predictions = svm_model.predict(X_test_selected)"
   ]
  },
  {
   "cell_type": "code",
   "execution_count": 22,
   "id": "2782e1e5",
   "metadata": {},
   "outputs": [
    {
     "data": {
      "text/plain": [
       "array([[ 1,  0,  5],\n",
       "       [ 0,  3, 10],\n",
       "       [ 0,  0,  8]], dtype=int64)"
      ]
     },
     "execution_count": 22,
     "metadata": {},
     "output_type": "execute_result"
    }
   ],
   "source": [
    "# Generate confusion matrix\n",
    "cm = confusion_matrix(y_test, svm_predictions)\n",
    "cm"
   ]
  },
  {
   "cell_type": "code",
   "execution_count": 23,
   "id": "c2e16ad8",
   "metadata": {},
   "outputs": [
    {
     "data": {
      "image/png": "[encoded data removed]",
      "text/plain": [
       "<Figure size 800x600 with 2 Axes>"
      ]
     },
     "metadata": {},
     "output_type": "display_data"
    }
   ],
   "source": [
    "# Display confusion matrix\n",
    "plt.figure(figsize=(8, 6))\n",
    "sns.heatmap(cm, annot=True, fmt='d', cmap='Blues', xticklabels=['Negative', 'Positive'], yticklabels=['Negative', 'Positive'])\n",
    "plt.xlabel('Predicted')\n",
    "plt.ylabel('Actual')\n",
    "plt.title('Confusion Matrix')\n",
    "plt.show()"
   ]
  },
  {
   "cell_type": "code",
   "execution_count": 24,
   "id": "95fdc698",
   "metadata": {},
   "outputs": [
    {
     "name": "stdout",
     "output_type": "stream",
     "text": [
      "Accuracy: 0.4444444444444444\n",
      "\n",
      "              precision    recall  f1-score   support\n",
      "\n",
      "    Negative       1.00      0.17      0.29         6\n",
      "     Neutral       1.00      0.23      0.38        13\n",
      "    Positive       0.35      1.00      0.52         8\n",
      "\n",
      "    accuracy                           0.44        27\n",
      "   macro avg       0.78      0.47      0.39        27\n",
      "weighted avg       0.81      0.44      0.40        27\n",
      "\n"
     ]
    }
   ],
   "source": [
    "# print the classification report\n",
    "svm_accuracy = accuracy_score(y_test, svm_predictions)\n",
    "print(f'Accuracy: {svm_accuracy}\\n')\n",
    "print(classification_report(y_test, svm_predictions))"
   ]
  },
  {
   "cell_type": "code",
   "execution_count": null,
   "id": "5ea5cd90",
   "metadata": {},
   "outputs": [],
   "source": []
  },
  {
   "cell_type": "code",
   "execution_count": 25,
   "id": "397c8645",
   "metadata": {},
   "outputs": [
    {
     "name": "stdout",
     "output_type": "stream",
     "text": [
      "KNN Model Accuracy: 0.4074074074074074\n",
      "              precision    recall  f1-score   support\n",
      "\n",
      "    Negative       0.40      0.33      0.36         6\n",
      "     Neutral       0.50      0.31      0.38        13\n",
      "    Positive       0.36      0.62      0.45         8\n",
      "\n",
      "    accuracy                           0.41        27\n",
      "   macro avg       0.42      0.42      0.40        27\n",
      "weighted avg       0.44      0.41      0.40        27\n",
      "\n"
     ]
    }
   ],
   "source": [
    "from sklearn.feature_extraction.text import TfidfVectorizer\n",
    "from sklearn.model_selection import train_test_split\n",
    "from sklearn.neighbors import KNeighborsClassifier\n",
    "from sklearn.metrics import accuracy_score, classification_report\n",
    "\n",
    "# Sample dataset splitting\n",
    "X_train, X_test, y_train, y_test = train_test_split(df['Review'], df['Label'], test_size=0.2, random_state=42)\n",
    "\n",
    "# Convert text data to TF-IDF features\n",
    "tfidf_vectorizer = TfidfVectorizer()\n",
    "X_train_tfidf = tfidf_vectorizer.fit_transform(X_train)\n",
    "X_test_tfidf = tfidf_vectorizer.transform(X_test)\n",
    "\n",
    "# Build and train KNN model\n",
    "knn_model = KNeighborsClassifier(n_neighbors=3)  # You can adjust the number of neighbors\n",
    "knn_model.fit(X_train_tfidf, y_train)\n",
    "\n",
    "# Evaluate the model\n",
    "knn_predictions = knn_model.predict(X_test_tfidf)\n",
    "accuracy = accuracy_score(y_test, knn_predictions)\n",
    "print(f'KNN Model Accuracy: {accuracy}')\n",
    "\n",
    "# Make predictions\n",
    "print(classification_report(y_test, knn_predictions))"
   ]
  },
  {
   "cell_type": "code",
   "execution_count": 26,
   "id": "8859dba0",
   "metadata": {},
   "outputs": [
    {
     "name": "stdout",
     "output_type": "stream",
     "text": [
      "Random Forest Model Accuracy: 0.48148148148148145\n",
      "              precision    recall  f1-score   support\n",
      "\n",
      "    Negative       0.50      0.17      0.25         6\n",
      "     Neutral       1.00      0.38      0.56        13\n",
      "    Positive       0.35      0.88      0.50         8\n",
      "\n",
      "    accuracy                           0.48        27\n",
      "   macro avg       0.62      0.48      0.44        27\n",
      "weighted avg       0.70      0.48      0.47        27\n",
      "\n"
     ]
    }
   ],
   "source": [
    "from sklearn.feature_extraction.text import TfidfVectorizer\n",
    "from sklearn.model_selection import train_test_split\n",
    "from sklearn.ensemble import RandomForestClassifier\n",
    "from sklearn.metrics import accuracy_score, classification_report\n",
    "\n",
    "# Sample dataset splitting\n",
    "X_train, X_test, y_train, y_test = train_test_split(df['Review'], df['Label'], test_size=0.2, random_state=42)\n",
    "\n",
    "# Convert text data to TF-IDF features\n",
    "tfidf_vectorizer = TfidfVectorizer()\n",
    "X_train_tfidf = tfidf_vectorizer.fit_transform(X_train)\n",
    "X_test_tfidf = tfidf_vectorizer.transform(X_test)\n",
    "\n",
    "# Build and train Random Forest model\n",
    "rf_model = RandomForestClassifier(n_estimators=100, random_state=42)  # You can adjust the number of estimators\n",
    "rf_model.fit(X_train_tfidf, y_train)\n",
    "\n",
    "# Evaluate the model\n",
    "rf_predictions = rf_model.predict(X_test_tfidf)\n",
    "accuracy = accuracy_score(y_test, rf_predictions)\n",
    "print(f'Random Forest Model Accuracy: {accuracy}')\n",
    "\n",
    "# Make predictions\n",
    "print(classification_report(y_test, rf_predictions))"
   ]
  },
  {
   "cell_type": "code",
   "execution_count": 27,
   "id": "f49d9388",
   "metadata": {},
   "outputs": [
    {
     "name": "stdout",
     "output_type": "stream",
     "text": [
      "Logistic Regression Model Accuracy: 0.3333333333333333\n",
      "              precision    recall  f1-score   support\n",
      "\n",
      "    Negative       0.00      0.00      0.00         6\n",
      "     Neutral       1.00      0.08      0.14        13\n",
      "    Positive       0.31      1.00      0.47         8\n",
      "\n",
      "    accuracy                           0.33        27\n",
      "   macro avg       0.44      0.36      0.20        27\n",
      "weighted avg       0.57      0.33      0.21        27\n",
      "\n"
     ]
    },
    {
     "name": "stderr",
     "output_type": "stream",
     "text": [
      "C:\\Users\\Chan\\anaconda3\\lib\\site-packages\\sklearn\\metrics\\_classification.py:1344: UndefinedMetricWarning: Precision and F-score are ill-defined and being set to 0.0 in labels with no predicted samples. Use `zero_division` parameter to control this behavior.\n",
      "  _warn_prf(average, modifier, msg_start, len(result))\n",
      "C:\\Users\\Chan\\anaconda3\\lib\\site-packages\\sklearn\\metrics\\_classification.py:1344: UndefinedMetricWarning: Precision and F-score are ill-defined and being set to 0.0 in labels with no predicted samples. Use `zero_division` parameter to control this behavior.\n",
      "  _warn_prf(average, modifier, msg_start, len(result))\n",
      "C:\\Users\\Chan\\anaconda3\\lib\\site-packages\\sklearn\\metrics\\_classification.py:1344: UndefinedMetricWarning: Precision and F-score are ill-defined and being set to 0.0 in labels with no predicted samples. Use `zero_division` parameter to control this behavior.\n",
      "  _warn_prf(average, modifier, msg_start, len(result))\n"
     ]
    }
   ],
   "source": [
    "from sklearn.feature_extraction.text import TfidfVectorizer\n",
    "from sklearn.model_selection import train_test_split\n",
    "from sklearn.linear_model import LogisticRegression\n",
    "from sklearn.metrics import accuracy_score, classification_report\n",
    "\n",
    "# Sample dataset splitting\n",
    "X_train, X_test, y_train, y_test = train_test_split(df['Review'], df['Label'], test_size=0.2, random_state=42)\n",
    "\n",
    "# Convert text data to TF-IDF features\n",
    "tfidf_vectorizer = TfidfVectorizer()\n",
    "X_train_tfidf = tfidf_vectorizer.fit_transform(X_train)\n",
    "X_test_tfidf = tfidf_vectorizer.transform(X_test)\n",
    "\n",
    "# Build and train Logistic Regression model\n",
    "logreg_model = LogisticRegression(random_state=42)\n",
    "logreg_model.fit(X_train_tfidf, y_train)\n",
    "\n",
    "# Evaluate the model\n",
    "logreg_predictions = logreg_model.predict(X_test_tfidf)\n",
    "accuracy = accuracy_score(y_test, logreg_predictions)\n",
    "print(f'Logistic Regression Model Accuracy: {accuracy}')\n",
    "\n",
    "# Make predictions\n",
    "print(classification_report(y_test, logreg_predictions))"
   ]
  },
  {
   "cell_type": "code",
   "execution_count": null,
   "id": "a8d138a4",
   "metadata": {},
   "outputs": [],
   "source": []
  },
  {
   "cell_type": "code",
   "execution_count": null,
   "id": "91205341",
   "metadata": {},
   "outputs": [],
   "source": []
  }
 ],
 "metadata": {
  "kernelspec": {
   "display_name": "Python 3 (ipykernel)",
   "language": "python",
   "name": "python3"
  },
  "language_info": {
   "codemirror_mode": {
    "name": "ipython",
    "version": 3
   },
   "file_extension": ".py",
   "mimetype": "text/x-python",
   "name": "python",
   "nbconvert_exporter": "python",
   "pygments_lexer": "ipython3",
   "version": "3.10.9"
  }
 },
 "nbformat": 4,
 "nbformat_minor": 5
}
